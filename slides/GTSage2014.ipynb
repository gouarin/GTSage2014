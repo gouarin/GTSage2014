{
 "metadata": {
  "celltoolbar": "Slideshow",
  "name": "",
  "signature": "sha256:10318d4d25eb9f64e3a0eb56af303ff6fd42221a946a9b8612cde3b33bb8ba9c"
 },
 "nbformat": 3,
 "nbformat_minor": 0,
 "worksheets": [
  {
   "cells": [
    {
     "cell_type": "markdown",
     "metadata": {
      "internals": {
       "slide_helper": "subslide_end",
       "slide_type": "subslide"
      },
      "slide_helper": "slide_end",
      "slideshow": {
       "slide_type": "slide"
      }
     },
     "source": [
      "<h1 align=\"center\">Python pour le calcul scientifique</h1>\n",
      "<h3 align=\"center\">Lo\u00efc Gouarin</h3>\n",
      "<h3 align=\"center\">Laboratoire de math\u00e9matiques d'Orsay</h3>\n",
      "<h3 align=\"center\">21 novembre 2014</h3>"
     ]
    },
    {
     "cell_type": "markdown",
     "metadata": {
      "internals": {
       "slide_helper": "subslide_end",
       "slide_type": "subslide"
      },
      "slide_helper": "slide_end",
      "slideshow": {
       "slide_type": "slide"
      }
     },
     "source": [
      "##Pour r\u00e9cup\u00e9rer la pr\u00e9sentation et les exemples\n",
      "\n",
      "- https://github.com/gouarin/GTSage2014\n",
      "- git clone https://github.com/gouarin/GTSage2014.git"
     ]
    },
    {
     "cell_type": "markdown",
     "metadata": {
      "internals": {
       "slide_helper": "subslide_end",
       "slide_type": "subslide"
      },
      "slide_helper": "subslide_end",
      "slideshow": {
       "slide_type": "slide"
      }
     },
     "source": [
      "#Petite introduction"
     ]
    },
    {
     "cell_type": "markdown",
     "metadata": {
      "internals": {
       "slide_helper": "subslide_end",
       "slide_type": "subslide"
      },
      "slide_helper": "subslide_end",
      "slideshow": {
       "slide_type": "subslide"
      }
     },
     "source": [
      "##Pourquoi utiliser Python pour le calcul scientifique?\n",
      "\n",
      "- Python peut \u00eatre appris en quelques jours.\n",
      "- De nombreux modules existent.\n",
      "- L'int\u00e9r\u00eat pour ce langage ne cesse de cro\u00eetre.\n",
      "- Tous les outils sont l\u00e0 pour faire des codes performants et parall\u00e8les.\n",
      "- On peut faire bien plus que du calcul.\n",
      "\n",
      "<span style=\"color:blue;\"> Langage utilis\u00e9 maintenant dans les classes pr\u00e9paratoires scientifiques.</span>"
     ]
    },
    {
     "cell_type": "markdown",
     "metadata": {
      "internals": {
       "slide_helper": "subslide_end",
       "slide_type": "subslide"
      },
      "slide_helper": "subslide_end",
      "slideshow": {
       "slide_type": "subslide"
      }
     },
     "source": [
      "##Comment commencer?\n",
      "\n",
      "- en utilisant Sage\n",
      "<center>\n",
      "http://www.sagemath.org/fr/\n",
      "</center>\n",
      "\n",
      "- en installant anaconda\n",
      "<center>\n",
      "http://continuum.io/downloads\n",
      "</center>"
     ]
    },
    {
     "cell_type": "markdown",
     "metadata": {
      "internals": {
       "slide_helper": "subslide_end",
       "slide_type": "subslide"
      },
      "slide_helper": "slide_end",
      "slideshow": {
       "slide_type": "subslide"
      }
     },
     "source": [
      "##Les indispensables\n",
      "&nbsp;\n",
      "<center>\n",
      "<img src='./figures/numpy.png' style=\"width:40%\" /> \n",
      "</center>"
     ]
    },
    {
     "cell_type": "markdown",
     "metadata": {
      "internals": {
       "slide_helper": "subslide_end",
       "slide_type": "subslide"
      },
      "slide_helper": "subslide_end",
      "slideshow": {
       "slide_type": "slide"
      }
     },
     "source": [
      "#NumPy"
     ]
    },
    {
     "cell_type": "markdown",
     "metadata": {
      "internals": {
       "slide_helper": "subslide_end",
       "slide_type": "subslide"
      },
      "slide_helper": "subslide_end",
      "slideshow": {
       "slide_type": "subslide"
      }
     },
     "source": [
      "##Pr\u00e9sentation g\u00e9n\u00e9rale\n",
      "\n",
      "- outils performants pour la manipulation de tableaux \u00e0 $N$ dimensions\n",
      "- fonctions basiques en alg\u00e8bre lin\u00e9aire\n",
      "- fonctions basiques pour les transform\u00e9es de Fourier\n",
      "- outils pour int\u00e9grer du code Fortran\n",
      "- outils pour int\u00e9grer du code C/C++"
     ]
    },
    {
     "cell_type": "markdown",
     "metadata": {
      "internals": {
       "slide_type": "subslide"
      },
      "slideshow": {
       "slide_type": "subslide"
      }
     },
     "source": [
      "##Comparaison syntaxique NumPy, Matlab\n",
      "On veut calculer\n",
      "$$\n",
      "u=100\\exp\\left(-100(x-0.5)^2\\right)\\;\\text{avec}\\;x \\in [0,1].\n",
      "$$\n",
      "    "
     ]
    },
    {
     "cell_type": "markdown",
     "metadata": {
      "internals": {
       "slide_helper": "subslide_end"
      },
      "slide_helper": "subslide_end",
      "slideshow": {
       "slide_type": "-"
      }
     },
     "source": [
      "###Version Python\n",
      "```python\n",
      "from numpy import *\n",
      "x = linspace(0., 1., 100)\n",
      "u = 100.*exp(-100.*(x - .5)**2)\n",
      "```\n",
      "\n",
      "###Version Matlab\n",
      "```matlab\n",
      "x = linspace(0.,1.,100)\n",
      "u=100.*exp(-100.*(x-.5).^2)\n",
      "```"
     ]
    },
    {
     "cell_type": "markdown",
     "metadata": {
      "internals": {
       "slide_type": "subslide"
      },
      "slideshow": {
       "slide_type": "subslide"
      }
     },
     "source": [
      "##Cr\u00e9ation d'un tableau en connaissant sa taille\n"
     ]
    },
    {
     "cell_type": "code",
     "collapsed": false,
     "input": [
      "import numpy as np\n",
      "a = np.zeros(4)\n",
      "a"
     ],
     "language": "python",
     "metadata": {
      "internals": {},
      "slideshow": {
       "slide_type": "-"
      }
     },
     "outputs": [
      {
       "metadata": {},
       "output_type": "pyout",
       "prompt_number": 3,
       "text": [
        "array([ 0.,  0.,  0.,  0.])"
       ]
      }
     ],
     "prompt_number": 3
    },
    {
     "cell_type": "code",
     "collapsed": false,
     "input": [
      "nx, ny = 2, 2\n",
      "a = np.zeros((nx, ny, 2))\n",
      "a"
     ],
     "language": "python",
     "metadata": {
      "internals": {},
      "slideshow": {
       "slide_type": "-"
      }
     },
     "outputs": [
      {
       "metadata": {},
       "output_type": "pyout",
       "prompt_number": 4,
       "text": [
        "array([[[ 0.,  0.],\n",
        "        [ 0.,  0.]],\n",
        "\n",
        "       [[ 0.,  0.],\n",
        "        [ 0.,  0.]]])"
       ]
      }
     ],
     "prompt_number": 4
    },
    {
     "cell_type": "markdown",
     "metadata": {
      "internals": {
       "slide_helper": "subslide_end"
      },
      "slide_helper": "subslide_end",
      "slideshow": {
       "slide_type": "-"
      }
     },
     "source": [
      "Il existe \u00e9galement `np.ones`, `np.eye`, `np.identity`, `np.empty`, ..."
     ]
    },
    {
     "cell_type": "markdown",
     "metadata": {
      "internals": {
       "slide_type": "subslide"
      },
      "slideshow": {
       "slide_type": "subslide"
      }
     },
     "source": [
      "##Cr\u00e9ation d'un tableau avec une s\u00e9quence de nombre"
     ]
    },
    {
     "cell_type": "code",
     "collapsed": false,
     "input": [
      "a = np.linspace(-4, 4, 9)\n",
      "a"
     ],
     "language": "python",
     "metadata": {
      "internals": {},
      "slideshow": {
       "slide_type": "-"
      }
     },
     "outputs": [
      {
       "metadata": {},
       "output_type": "pyout",
       "prompt_number": 8,
       "text": [
        "array([-4., -3., -2., -1.,  0.,  1.,  2.,  3.,  4.])"
       ]
      }
     ],
     "prompt_number": 8
    },
    {
     "cell_type": "code",
     "collapsed": false,
     "input": [
      "a = np.arange(-4, 4, 1)\n",
      "a\n"
     ],
     "language": "python",
     "metadata": {
      "internals": {
       "slide_helper": "subslide_end"
      },
      "slide_helper": "subslide_end",
      "slideshow": {
       "slide_type": "-"
      }
     },
     "outputs": [
      {
       "metadata": {},
       "output_type": "pyout",
       "prompt_number": 9,
       "text": [
        "array([-4, -3, -2, -1,  0,  1,  2,  3])"
       ]
      }
     ],
     "prompt_number": 9
    },
    {
     "cell_type": "markdown",
     "metadata": {
      "internals": {
       "slide_type": "subslide"
      },
      "slideshow": {
       "slide_type": "subslide"
      }
     },
     "source": [
      "##Cr\u00e9ation d'un tableau \u00e0 partir d'une s\u00e9quence"
     ]
    },
    {
     "cell_type": "code",
     "collapsed": false,
     "input": [
      "a = np.array([1, 2, 3])\n",
      "a"
     ],
     "language": "python",
     "metadata": {
      "internals": {},
      "slideshow": {
       "slide_type": "-"
      }
     },
     "outputs": [
      {
       "metadata": {},
       "output_type": "pyout",
       "prompt_number": 11,
       "text": [
        "array([1, 2, 3])"
       ]
      }
     ],
     "prompt_number": 11
    },
    {
     "cell_type": "code",
     "collapsed": false,
     "input": [
      "b = np.array(range(10))\n",
      "b"
     ],
     "language": "python",
     "metadata": {
      "internals": {},
      "slideshow": {
       "slide_type": "-"
      }
     },
     "outputs": [
      {
       "metadata": {},
       "output_type": "pyout",
       "prompt_number": 12,
       "text": [
        "array([0, 1, 2, 3, 4, 5, 6, 7, 8, 9])"
       ]
      }
     ],
     "prompt_number": 12
    },
    {
     "cell_type": "code",
     "collapsed": false,
     "input": [
      "L1, L2 = [1, 2, 3], [4, 5, 6]\n",
      "a = np.array([L1, L2])\n",
      "a\n"
     ],
     "language": "python",
     "metadata": {
      "internals": {
       "slide_helper": "subslide_end"
      },
      "slide_helper": "subslide_end",
      "slideshow": {
       "slide_type": "-"
      }
     },
     "outputs": [
      {
       "metadata": {},
       "output_type": "pyout",
       "prompt_number": 13,
       "text": [
        "array([[1, 2, 3],\n",
        "       [4, 5, 6]])"
       ]
      }
     ],
     "prompt_number": 13
    },
    {
     "cell_type": "markdown",
     "metadata": {
      "internals": {
       "slide_type": "subslide"
      },
      "slideshow": {
       "slide_type": "subslide"
      }
     },
     "source": [
      "##Cr\u00e9ation d'un tableau \u00e0 partir d'une fonction"
     ]
    },
    {
     "cell_type": "code",
     "collapsed": false,
     "input": [
      "def f(x, y):\n",
      "    return x**2 + np.sin(y)\n",
      "\n",
      "a = np.fromfunction(f, (2, 3))\n",
      "a"
     ],
     "language": "python",
     "metadata": {
      "internals": {
       "slide_helper": "subslide_end"
      },
      "slide_helper": "subslide_end",
      "slideshow": {
       "slide_type": "-"
      }
     },
     "outputs": [
      {
       "metadata": {},
       "output_type": "pyout",
       "prompt_number": 14,
       "text": [
        "array([[ 0.        ,  0.84147098,  0.90929743],\n",
        "       [ 1.        ,  1.84147098,  1.90929743]])"
       ]
      }
     ],
     "prompt_number": 14
    },
    {
     "cell_type": "markdown",
     "metadata": {
      "internals": {
       "slide_helper": "subslide_end",
       "slide_type": "subslide"
      },
      "slide_helper": "subslide_end",
      "slideshow": {
       "slide_type": "subslide"
      }
     },
     "source": [
      "##Caract\u00e9ristiques d'un tableau a \n",
      "\n",
      "- a.shape: retourne les dimensions du tableau\n",
      "- a.dtype: retourne le type des \u00e9l\u00e9ments du tableau\n",
      "- a.size: retourne le nombre total d'\u00e9l\u00e9ments du tableau\n",
      "- a.ndim: retourne la dimension du tableau"
     ]
    },
    {
     "cell_type": "markdown",
     "metadata": {
      "internals": {
       "slide_helper": "subslide_end",
       "slide_type": "subslide"
      },
      "slide_helper": "subslide_end",
      "slideshow": {
       "slide_type": "subslide"
      }
     },
     "source": [
      "##Acc\u00e8s aux \u00e9l\u00e9ments d'un tableau a \n",
      "&nbsp;\n",
      "<center>\n",
      "<img src=\"figures/array.png\" style=\"width:60%;\" />\n",
      "`a[debut : fin : pas]`\n",
      "</center>"
     ]
    },
    {
     "cell_type": "markdown",
     "metadata": {
      "internals": {
       "slide_type": "subslide"
      },
      "slideshow": {
       "slide_type": "subslide"
      }
     },
     "source": [
      "##Indexation"
     ]
    },
    {
     "cell_type": "code",
     "collapsed": false,
     "input": [
      "L1, L2 = [1, -2, 3], [-4, 5, 6]\n",
      "a = np.array([L1, L2])\n",
      "a[1, 2]"
     ],
     "language": "python",
     "metadata": {
      "internals": {},
      "slideshow": {
       "slide_type": "-"
      }
     },
     "outputs": [
      {
       "metadata": {},
       "output_type": "pyout",
       "prompt_number": 17,
       "text": [
        "6"
       ]
      }
     ],
     "prompt_number": 17
    },
    {
     "cell_type": "code",
     "collapsed": false,
     "input": [
      "a[:, 1]"
     ],
     "language": "python",
     "metadata": {
      "internals": {},
      "slideshow": {
       "slide_type": "-"
      }
     },
     "outputs": [
      {
       "metadata": {},
       "output_type": "pyout",
       "prompt_number": 18,
       "text": [
        "array([-2,  5])"
       ]
      }
     ],
     "prompt_number": 18
    },
    {
     "cell_type": "code",
     "collapsed": false,
     "input": [
      "a[:, -1:0:-1]"
     ],
     "language": "python",
     "metadata": {
      "internals": {},
      "slideshow": {
       "slide_type": "-"
      }
     },
     "outputs": [
      {
       "metadata": {},
       "output_type": "pyout",
       "prompt_number": 19,
       "text": [
        "array([[ 3, -2],\n",
        "       [ 6,  5]])"
       ]
      }
     ],
     "prompt_number": 19
    },
    {
     "cell_type": "code",
     "collapsed": false,
     "input": [
      "a[a < 0]"
     ],
     "language": "python",
     "metadata": {
      "internals": {
       "slide_helper": "subslide_end"
      },
      "slide_helper": "subslide_end",
      "slideshow": {
       "slide_type": "-"
      }
     },
     "outputs": [
      {
       "metadata": {},
       "output_type": "pyout",
       "prompt_number": 20,
       "text": [
        "array([-2, -4])"
       ]
      }
     ],
     "prompt_number": 20
    },
    {
     "cell_type": "markdown",
     "metadata": {
      "internals": {
       "slide_type": "subslide"
      },
      "slideshow": {
       "slide_type": "subslide"
      }
     },
     "source": [
      "##Redimensionnement d'un tableau"
     ]
    },
    {
     "cell_type": "code",
     "collapsed": false,
     "input": [
      "a = np.linspace(1, 10, 10)\n",
      "a.shape = (2, 5) \n",
      "a"
     ],
     "language": "python",
     "metadata": {
      "internals": {},
      "slideshow": {
       "slide_type": "-"
      }
     },
     "outputs": [
      {
       "metadata": {},
       "output_type": "pyout",
       "prompt_number": 23,
       "text": [
        "array([[  1.,   2.,   3.,   4.,   5.],\n",
        "       [  6.,   7.,   8.,   9.,  10.]])"
       ]
      }
     ],
     "prompt_number": 23
    },
    {
     "cell_type": "code",
     "collapsed": false,
     "input": [
      "a.shape = (a.size,)\n",
      "a.reshape((2, 5))   "
     ],
     "language": "python",
     "metadata": {
      "internals": {},
      "slideshow": {
       "slide_type": "-"
      }
     },
     "outputs": [
      {
       "metadata": {},
       "output_type": "pyout",
       "prompt_number": 24,
       "text": [
        "array([[  1.,   2.,   3.,   4.,   5.],\n",
        "       [  6.,   7.,   8.,   9.,  10.]])"
       ]
      }
     ],
     "prompt_number": 24
    },
    {
     "cell_type": "markdown",
     "metadata": {
      "internals": {
       "slide_helper": "subslide_end"
      },
      "slide_helper": "subslide_end",
      "slideshow": {
       "slide_type": "-"
      }
     },
     "source": [
      "<span style=\"color:red;\">Attention:</span> `reshape` ne fait pas une copie du tableau mais \n",
      "cr\u00e9e une nouvelle vue."
     ]
    },
    {
     "cell_type": "markdown",
     "metadata": {
      "internals": {
       "slide_helper": "subslide_end",
       "slide_type": "subslide"
      },
      "slide_helper": "subslide_end",
      "slideshow": {
       "slide_type": "subslide"
      }
     },
     "source": [
      "##Les vues\n",
      "NumPy cr\u00e9e des tableaux allou\u00e9s en m\u00e9moire selon l'alignement C ou Fortran. On \n",
      "peut ensuite y acc\u00e9der selon diff\u00e9rentes vues. "
     ]
    },
    {
     "cell_type": "markdown",
     "metadata": {
      "internals": {
       "slide_type": "subslide"
      },
      "slideshow": {
       "slide_type": "subslide"
      }
     },
     "source": [
      "<center>\n",
      "<img src=\"./figures/vues1.png\" style=\"width:70%;\" />\n",
      "</center>"
     ]
    },
    {
     "cell_type": "code",
     "collapsed": false,
     "input": [
      "a = np.linspace(1, 10, 10)"
     ],
     "language": "python",
     "metadata": {
      "internals": {
       "slide_helper": "subslide_end"
      },
      "slide_helper": "subslide_end",
      "slideshow": {
       "slide_type": "-"
      }
     },
     "outputs": []
    },
    {
     "cell_type": "markdown",
     "metadata": {
      "internals": {
       "slide_type": "subslide"
      },
      "slideshow": {
       "slide_type": "subslide"
      }
     },
     "source": [
      "<center>\n",
      "<img src=\"./figures/vues2.png\" style=\"width:70%;\" />\n",
      "</center>"
     ]
    },
    {
     "cell_type": "code",
     "collapsed": false,
     "input": [
      "a = np.linspace(1, 10, 10)\n",
      "b = a.reshape((5, 2))"
     ],
     "language": "python",
     "metadata": {
      "internals": {
       "slide_helper": "subslide_end"
      },
      "slide_helper": "subslide_end",
      "slideshow": {
       "slide_type": "-"
      }
     },
     "outputs": []
    },
    {
     "cell_type": "markdown",
     "metadata": {
      "internals": {
       "slide_helper": "subslide_end",
       "slide_type": "subslide"
      },
      "slide_helper": "subslide_end",
      "slideshow": {
       "slide_type": "subslide"
      }
     },
     "source": [
      "<center>\n",
      "<img src=\"./figures/vues3.png\" style=\"width:70%;\" />\n",
      "</center>"
     ]
    },
    {
     "cell_type": "code",
     "collapsed": false,
     "input": [
      "a = np.linspace(1, 10, 10)\n",
      "b = a.reshape((5, 2))\n",
      "c = b[:, 0]"
     ],
     "language": "python",
     "metadata": {},
     "outputs": []
    },
    {
     "cell_type": "markdown",
     "metadata": {
      "internals": {
       "slide_type": "subslide"
      },
      "slideshow": {
       "slide_type": "subslide"
      }
     },
     "source": [
      "<center>\n",
      "<img src=\"./figures/vues4.png\" style=\"width:70%;\" />\n",
      "</center>"
     ]
    },
    {
     "cell_type": "code",
     "collapsed": false,
     "input": [
      "a = np.linspace(1, 10, 10)\n",
      "b = a.reshape((5, 2))\n",
      "c = b[:, 0]\n",
      "a[0] = 100"
     ],
     "language": "python",
     "metadata": {
      "internals": {
       "slide_helper": "subslide_end"
      },
      "slide_helper": "subslide_end",
      "slideshow": {
       "slide_type": "-"
      }
     },
     "outputs": []
    },
    {
     "cell_type": "code",
     "collapsed": false,
     "input": [
      "a"
     ],
     "language": "python",
     "metadata": {
      "internals": {
       "slide_type": "subslide"
      },
      "slideshow": {
       "slide_type": "subslide"
      }
     },
     "outputs": [
      {
       "metadata": {},
       "output_type": "pyout",
       "prompt_number": 25,
       "text": [
        "array([ 100.,    2.,    3.,    4.,    5.,    6.,    7.,    8.,    9.,   10.])"
       ]
      }
     ],
     "prompt_number": 25
    },
    {
     "cell_type": "code",
     "collapsed": false,
     "input": [
      "b"
     ],
     "language": "python",
     "metadata": {
      "internals": {},
      "slideshow": {
       "slide_type": "-"
      }
     },
     "outputs": [
      {
       "metadata": {},
       "output_type": "pyout",
       "prompt_number": 26,
       "text": [
        "array([[ 100.,    2.],\n",
        "       [   3.,    4.],\n",
        "       [   5.,    6.],\n",
        "       [   7.,    8.],\n",
        "       [   9.,   10.]])"
       ]
      }
     ],
     "prompt_number": 26
    },
    {
     "cell_type": "code",
     "collapsed": false,
     "input": [
      "c"
     ],
     "language": "python",
     "metadata": {
      "internals": {
       "slide_helper": "subslide_end"
      },
      "slide_helper": "subslide_end",
      "slideshow": {
       "slide_type": "-"
      }
     },
     "outputs": [
      {
       "metadata": {},
       "output_type": "pyout",
       "prompt_number": 27,
       "text": [
        "array([ 100.,    3.,    5.,    7.,    9.])"
       ]
      }
     ],
     "prompt_number": 27
    },
    {
     "cell_type": "markdown",
     "metadata": {
      "internals": {
       "slide_type": "subslide"
      },
      "slideshow": {
       "slide_type": "subslide"
      }
     },
     "source": [
      "##Copie d'un tableau"
     ]
    },
    {
     "cell_type": "code",
     "collapsed": false,
     "input": [
      "a = np.linspace(1, 5, 5)\n",
      "b = a\n",
      "c = a.copy()\n",
      "d = np.zeros(a.shape, a.dtype)\n",
      "d[:] = a \n",
      "b[1] = 9\n",
      "for i in [a, b, c, d]:\n",
      "    print i"
     ],
     "language": "python",
     "metadata": {
      "internals": {
       "slide_helper": "subslide_end"
      },
      "slide_helper": "subslide_end",
      "slideshow": {
       "slide_type": "-"
      }
     },
     "outputs": [
      {
       "output_type": "stream",
       "stream": "stdout",
       "text": [
        "[ 1.  9.  3.  4.  5.]\n",
        "[ 1.  9.  3.  4.  5.]\n",
        "[ 1.  2.  3.  4.  5.]\n",
        "[ 1.  2.  3.  4.  5.]\n"
       ]
      }
     ],
     "prompt_number": 31
    },
    {
     "cell_type": "markdown",
     "metadata": {
      "internals": {
       "slide_type": "subslide"
      },
      "slideshow": {
       "slide_type": "subslide"
      }
     },
     "source": [
      "##Op\u00e9rations sur les tableaux"
     ]
    },
    {
     "cell_type": "code",
     "collapsed": false,
     "input": [
      "a = np.arange(10)\n",
      "a"
     ],
     "language": "python",
     "metadata": {
      "internals": {},
      "slideshow": {
       "slide_type": "-"
      }
     },
     "outputs": [
      {
       "metadata": {},
       "output_type": "pyout",
       "prompt_number": 37,
       "text": [
        "array([0, 1, 2, 3, 4, 5, 6, 7, 8, 9])"
       ]
      }
     ],
     "prompt_number": 37
    },
    {
     "cell_type": "code",
     "collapsed": false,
     "input": [
      "a.sum()"
     ],
     "language": "python",
     "metadata": {
      "internals": {},
      "slideshow": {
       "slide_type": "-"
      }
     },
     "outputs": [
      {
       "metadata": {},
       "output_type": "pyout",
       "prompt_number": 45,
       "text": [
        "45"
       ]
      }
     ],
     "prompt_number": 45
    },
    {
     "cell_type": "code",
     "collapsed": false,
     "input": [
      "np.sum(a)"
     ],
     "language": "python",
     "metadata": {
      "internals": {},
      "slideshow": {
       "slide_type": "-"
      }
     },
     "outputs": [
      {
       "metadata": {},
       "output_type": "pyout",
       "prompt_number": 46,
       "text": [
        "45"
       ]
      }
     ],
     "prompt_number": 46
    },
    {
     "cell_type": "code",
     "collapsed": false,
     "input": [
      "a + a"
     ],
     "language": "python",
     "metadata": {
      "internals": {},
      "slideshow": {
       "slide_type": "-"
      }
     },
     "outputs": [
      {
       "metadata": {},
       "output_type": "pyout",
       "prompt_number": 47,
       "text": [
        "array([ 0,  2,  4,  6,  8, 10, 12, 14, 16, 18])"
       ]
      }
     ],
     "prompt_number": 47
    },
    {
     "cell_type": "code",
     "collapsed": false,
     "input": [
      "a*a"
     ],
     "language": "python",
     "metadata": {
      "internals": {},
      "slideshow": {
       "slide_type": "-"
      }
     },
     "outputs": [
      {
       "metadata": {},
       "output_type": "pyout",
       "prompt_number": 48,
       "text": [
        "array([ 0,  1,  4,  9, 16, 25, 36, 49, 64, 81])"
       ]
      }
     ],
     "prompt_number": 48
    },
    {
     "cell_type": "code",
     "collapsed": false,
     "input": [
      "np.dot(a, a)"
     ],
     "language": "python",
     "metadata": {
      "internals": {
       "slide_helper": "subslide_end"
      },
      "slide_helper": "slide_end",
      "slideshow": {
       "slide_type": "-"
      }
     },
     "outputs": [
      {
       "metadata": {},
       "output_type": "pyout",
       "prompt_number": 49,
       "text": [
        "285"
       ]
      }
     ],
     "prompt_number": 49
    },
    {
     "cell_type": "markdown",
     "metadata": {
      "internals": {
       "slide_helper": "subslide_end",
       "slide_type": "subslide"
      },
      "slide_helper": "subslide_end",
      "slideshow": {
       "slide_type": "slide"
      }
     },
     "source": [
      "#SciPy"
     ]
    },
    {
     "cell_type": "markdown",
     "metadata": {
      "internals": {
       "slide_helper": "subslide_end",
       "slide_type": "subslide"
      },
      "slide_helper": "subslide_end",
      "slideshow": {
       "slide_type": "subslide"
      }
     },
     "source": [
      "##Pr\u00e9sentation\n",
      "\n",
      "SciPy reprend l'ensemble de NumPy et contient un certain nombre de modules sp\u00e9cialis\u00e9s.\n",
      "&nbsp;\n",
      "<center>\n",
      "  <img src=\"figures/subpackages.png\" style=\"width:50%;\" />\n",
      "  </center>"
     ]
    },
    {
     "cell_type": "markdown",
     "metadata": {
      "internals": {
       "slide_helper": "subslide_end",
       "slide_type": "subslide"
      },
      "slide_helper": "subslide_end",
      "slideshow": {
       "slide_type": "subslide"
      }
     },
     "source": [
      "##Module integrate \n",
      "\n",
      "Ce module fournit un ensemble d'outils pour l'int\u00e9gration. Ces outils se \n",
      "d\u00e9coupent en 3 grandes familles\n",
      "\n",
      "- calcul d'int\u00e9grale \u00e0 partir de fonctions Python\n",
      "\n",
      "<span style=\"margin-left:10%;\">\n",
      "*quadpack, linpack, mach*\n",
      "</span>\n",
      "\n",
      "- calcul d'int\u00e9grale \u00e0 partir d'un ensemble de points\n",
      "\n",
      "<span style=\"margin-left:10%;\">\n",
      "*fonctions Python*\n",
      "</span>\n",
      "\n",
      "- r\u00e9solution d'\u00e9quations diff\u00e9rentielles ordinaires\n",
      "\n",
      "<span style=\"margin-left:10%;\">\n",
      "*odepack, dop, vode, linpack, mach*\n",
      "</span>\n",
      "\n",
      "Toutes ces librairies sont en Fortran. Les interfaces sont r\u00e9alis\u00e9es directement \n",
      "via la C API sauf vode qui utilise f2py."
     ]
    },
    {
     "cell_type": "markdown",
     "metadata": {
      "internals": {
       "slide_type": "subslide"
      },
      "slideshow": {
       "slide_type": "subslide"
      }
     },
     "source": [
      "##Module linalg\n",
      "\n",
      "Ce module fournit un ensemble d'outils en alg\u00e8bre lin\u00e9aire. Il reprend l'ensemble des fonctions de numpy.linalg et apporte quelques fonctionnalit\u00e9s suppl\u00e9mentaires.\n",
      "\n",
      "Il s'appuie sur les librairies blas et lapack. \n",
      "L'interface est r\u00e9alis\u00e9e en utilisant f2py."
     ]
    },
    {
     "cell_type": "code",
     "collapsed": false,
     "input": [
      "import numpy as np\n",
      "from numpy.random import rand as rn\n",
      "from scipy.linalg import lu as lu\n",
      "A = rn(100, 100)\n",
      "P, L, U = lu(A)"
     ],
     "language": "python",
     "metadata": {
      "internals": {
       "slide_helper": "subslide_end"
      },
      "slide_helper": "subslide_end",
      "slideshow": {
       "slide_type": "-"
      }
     },
     "outputs": []
    },
    {
     "cell_type": "markdown",
     "metadata": {
      "internals": {
       "slide_type": "subslide"
      },
      "slideshow": {
       "slide_type": "subslide"
      }
     },
     "source": [
      "##Module sparse\n",
      "\n",
      "Ce module fournit un ensemble d'outils permettant de manipuler des matrices creuses.\n",
      "\n",
      "Les formats de matrices creuses sont \u00e9crits en C et l'interface est r\u00e9alis\u00e9e en utilisant swig."
     ]
    },
    {
     "cell_type": "code",
     "collapsed": false,
     "input": [
      "import scipy.sparse as spsp\n",
      "data = np.array([[1,2,3,4],[1,2,3,4],[1,2,3,4]])\n",
      "diags = np.array([0,-1,2])\n",
      "spsp.spdiags(data, diags,4, 4).todense()"
     ],
     "language": "python",
     "metadata": {
      "internals": {
       "slide_helper": "subslide_end"
      },
      "slide_helper": "slide_end",
      "slideshow": {
       "slide_type": "-"
      }
     },
     "outputs": [
      {
       "metadata": {},
       "output_type": "pyout",
       "prompt_number": 57,
       "text": [
        "matrix([[1, 0, 3, 0],\n",
        "        [1, 2, 0, 4],\n",
        "        [0, 2, 3, 0],\n",
        "        [0, 0, 3, 4]])"
       ]
      }
     ],
     "prompt_number": 57
    },
    {
     "cell_type": "markdown",
     "metadata": {
      "internals": {
       "slide_helper": "subslide_end",
       "slide_type": "subslide"
      },
      "slide_helper": "subslide_end",
      "slideshow": {
       "slide_type": "slide"
      }
     },
     "source": [
      "#Matplotlib"
     ]
    },
    {
     "cell_type": "markdown",
     "metadata": {
      "internals": {
       "slide_type": "subslide"
      },
      "slideshow": {
       "slide_type": "subslide"
      }
     },
     "source": [
      "##Pr\u00e9sentation\n",
      "\n",
      "- permet de faire principalement des graphes $1D$ et $2D$, \"fa\u00e7on $Matlab$\",\n",
      "- possibilit\u00e9 d'interagir avec les graphes,\n",
      "- sauvegarde des figures sous diff\u00e9rents formats : $pdf$, $ps$, $png$,...\n",
      "- graphes facilement int\u00e9grables dans une interface graphique utilisateur ($GUI$),\n",
      "- code extensible."
     ]
    },
    {
     "cell_type": "code",
     "collapsed": false,
     "input": [
      "import matplotlib.pyplot as plt\n",
      "import numpy as np "
     ],
     "language": "python",
     "metadata": {
      "internals": {
       "slide_helper": "subslide_end"
      },
      "slide_helper": "subslide_end",
      "slideshow": {
       "slide_type": "-"
      }
     },
     "outputs": [],
     "prompt_number": 3
    },
    {
     "cell_type": "markdown",
     "metadata": {
      "internals": {
       "slide_type": "subslide"
      },
      "slideshow": {
       "slide_type": "subslide"
      }
     },
     "source": [
      "##Premier exemple"
     ]
    },
    {
     "cell_type": "code",
     "collapsed": false,
     "input": [
      "%matplotlib inline\n",
      "x = np.linspace(0., 2*np.pi, 100)\n",
      "plt.plot(x, np.exp(x/2)*np.cos(5*x), '-ro')\n",
      "\n",
      "plt.title('Fonction $f(x)=e^{x/2} cos(5x)$')\n",
      "plt.xlabel('$x$')\n",
      "plt.text(1, 15., 'Courbe', fontsize=22)\n",
      "plt.annotate('M', xy=(1, -1), xytext=(2, -9),\n",
      "              arrowprops = dict(arrowstyle=\"->\")\n",
      "              )\n",
      "\n",
      "plt.savefig('1D_exemple.pdf')\n",
      "plt.show()"
     ],
     "language": "python",
     "metadata": {
      "internals": {
       "slide_helper": "subslide_end"
      },
      "slide_helper": "subslide_end",
      "slideshow": {
       "slide_type": "-"
      }
     },
     "outputs": [
      {
       "metadata": {},
       "output_type": "display_data",
       "png": "[encoded data removed]",
       "text": [
        "<matplotlib.figure.Figure at 0x7f407ae41ed0>"
       ]
      }
     ],
     "prompt_number": 7
    },
    {
     "cell_type": "markdown",
     "metadata": {
      "internals": {
       "slide_type": "subslide"
      },
      "slideshow": {
       "slide_type": "subslide"
      }
     },
     "source": [
      "##Subplot et axes"
     ]
    },
    {
     "cell_type": "code",
     "collapsed": false,
     "input": [
      "x = np.linspace(-4., 4., 50)\n",
      "plt.subplot(2, 2, 1)\n",
      "plt.plot(x, -x**4 + x**3 + x**2 + 1, 'o-')\n",
      "plt.title(\"$f$\")\n",
      "plt.subplot(2, 2, 3)\n",
      "plt.plot(x, -4*x**3 + 3*x**2 + 2*x, '-')\n",
      "plt.title(\"$f^{(1)}$\")\n",
      "plt.subplot(1, 2, 2)\n",
      "plt.plot(x, -12*x**2 + 6*x + 2, '--')\n",
      "plt.title(\"$f^{(2)}$\")\n",
      "plt.axes([.7, .1, .1, .1])\n",
      "plt.plot(x, -24*x + 6, ':')\n",
      "plt.title(\"$f^{(3)}$\")\n",
      "plt.tight_layout()\n",
      "plt.savefig(\"1D_subplot2.pdf\")\n",
      "plt.show()"
     ],
     "language": "python",
     "metadata": {
      "internals": {
       "slide_helper": "subslide_end"
      },
      "slide_helper": "slide_end",
      "slideshow": {
       "slide_type": "-"
      }
     },
     "outputs": [
      {
       "metadata": {},
       "output_type": "display_data",
       "png": "[encoded data removed]",
       "text": [
        "<matplotlib.figure.Figure at 0x7fd615cfe9d0>"
       ]
      }
     ],
     "prompt_number": 71
    },
    {
     "cell_type": "markdown",
     "metadata": {
      "internals": {
       "slide_helper": "subslide_end",
       "slide_type": "subslide"
      },
      "slide_helper": "slide_end",
      "slideshow": {
       "slide_type": "slide"
      }
     },
     "source": [
      "##Les autres modules int\u00e9ressants\n",
      "\n",
      "- [SymPy](http://sympy.org): calcul symbolique\n",
      "- [scikit-learn](http://scikit-learn.org/stable/): machine learning\n",
      "- [panda](http://pandas.pydata.org/): structure de donn\u00e9es et outils d'analyse de donn\u00e9es haute performance\n",
      "- [pyTables](http://pytables.github.io/): traitement de grandes donn\u00e9es\n",
      "- ...\n",
      "\n",
      "Pour plus d'informations \n",
      "http://numfocus.org/projects.html"
     ]
    },
    {
     "cell_type": "markdown",
     "metadata": {
      "internals": {
       "slide_helper": "subslide_end",
       "slide_type": "subslide"
      },
      "slide_helper": "slide_end",
      "slideshow": {
       "slide_type": "slide"
      }
     },
     "source": [
      "#Les interfaces\n",
      "De nombreuses librairies \u00e9crites dans des langages bas niveau ont leur interface pour Python.\n",
      "\n",
      "- [mpi4py](https://code.google.com/p/mpi4py/)\n",
      "- [petsc4py](https://bitbucket.org/petsc/petsc4py)\n",
      "- [FEniCS](http://fenicsproject.org/)\n",
      "- ...\n",
      "\n",
      "Il y a \u00e9galement possibilit\u00e9 de faire du calcul sur carte graphique.\n",
      "\n",
      "- [PyCUDA](http://mathema.tician.de/software/pycuda/)\n",
      "- [PyOpenCL](http://mathema.tician.de/software/pyopencl/)"
     ]
    },
    {
     "cell_type": "markdown",
     "metadata": {
      "internals": {
       "slide_helper": "subslide_end",
       "slide_type": "subslide"
      },
      "slide_helper": "slide_end",
      "slideshow": {
       "slide_type": "slide"
      }
     },
     "source": [
      "#Pour aller plus loin\n",
      "Les formations organis\u00e9es par le Groupe Calcul sur le sujet.\n",
      "\n",
      "- Ecole Python de d\u00e9cembre 2010 \n",
      "\n",
      "http://calcul.math.cnrs.fr/spip.php?rubrique85\n",
      "    \n",
      "- Ecole Python de d\u00e9cembre 2013\n",
      "\n",
      "http://calcul.math.cnrs.fr/spip.php?rubrique102\n",
      "\n",
      "<center>\n",
      "<img src=\"./figures/logocalcul.png\" style=\"width:15%;\" />\n",
      "</center>"
     ]
    },
    {
     "cell_type": "markdown",
     "metadata": {
      "internals": {
       "slide_helper": "subslide_end",
       "slide_type": "subslide"
      },
      "slide_helper": "slide_end",
      "slideshow": {
       "slide_type": "slide"
      }
     },
     "source": [
      "#Exemples\n",
      "\n",
      "- [Le pendule](../examples/01.pendulum.ipynb)\n",
      "- [L'\u00e9quation de Poisson](../examples/02.poisson.ipynb)\n",
      "- [L'\u00e9quation de la chaleur](../examples/03.chaleur.ipynb)\n",
      "- [L'ensemble de Julia](../examples/04.julia_set.ipynb)"
     ]
    }
   ],
   "metadata": {}
  }
 ]
}