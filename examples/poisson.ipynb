{
 "metadata": {
  "name": "",
  "signature": "sha256:bf8635d957c512473116dc606abaa988e452e1566ad193e33dac00ea6134b3b3"
 },
 "nbformat": 3,
 "nbformat_minor": 0,
 "worksheets": [
  {
   "cells": [
    {
     "cell_type": "markdown",
     "metadata": {
      "internals": {
       "slide_helper": "subslide_end",
       "slide_type": "subslide"
      },
      "slide_helper": "slide_end",
      "slideshow": {
       "slide_type": "slide"
      }
     },
     "source": [
      "<h1 align=\"center\">Equation de Poisson</h1>\n",
      "<h3 align=\"center\">Lo\u00efc Gouarin</h3>\n",
      "<h3 align=\"center\">22 mai 2014</h3>"
     ]
    },
    {
     "cell_type": "markdown",
     "metadata": {
      "internals": {
       "slide_type": "subslide"
      },
      "slideshow": {
       "slide_type": "slide"
      }
     },
     "source": [
      "On s'int\u00e9resse ici \u00e0 r\u00e9soudre le probl\u00e8me de Poisson en dimension $2$ ou $3$, sur un ouvert born\u00e9 $\\Omega$ de $\\mathbb{R}^d$, $d=2$ ou $3$"
     ]
    },
    {
     "cell_type": "markdown",
     "metadata": {
      "internals": {},
      "slideshow": {
       "slide_type": "-"
      }
     },
     "source": [
      "$$\n",
      "\\left\\{\n",
      "\\begin{array}{l}\n",
      "-\\Delta u = 1 \\; \\text{sur} \\; \\Omega, \\\\\\\\\n",
      "u = 0 \\; \\text{sur} \\; \\partial \\Omega.\n",
      "\\end{array}\n",
      "\\right.\n",
      "$$"
     ]
    },
    {
     "cell_type": "markdown",
     "metadata": {
      "internals": {},
      "slideshow": {
       "slide_type": "-"
      }
     },
     "source": [
      "o\u00f9 $f$ et $g$ sont des fonctions donn\u00e9es.\n",
      "\n",
      "Pour des raisons de simplicit\u00e9, nous chercherons \u00e0 r\u00e9soudre ce probl\u00e8me sur un domaine rectangulaire."
     ]
    },
    {
     "cell_type": "markdown",
     "metadata": {
      "internals": {},
      "slideshow": {
       "slide_type": "subslide"
      }
     },
     "source": [
      "Prenons le cas en dimension $2$ o\u00f9 $\\Omega=[a, b]\\times[c, d]$. Pour construire une solution approch\u00e9e, on se donne $2$ entiers $N>1$ et $M>1$, les pas de discr\u00e9tisation $h_x=\\frac{b-a}{N+1}$ et $h_y=\\frac{d-c}{M+1}$ et une grille du domaine $\\Omega$ d\u00e9finie par"
     ]
    },
    {
     "cell_type": "markdown",
     "metadata": {
      "internals": {},
      "slideshow": {
       "slide_type": "-"
      }
     },
     "source": [
      "$$\n",
      "\\begin{array}{l}\n",
      "x_i = a+ih_x  \\; \\text{pour} \\; i=0,\\cdots,N+1,\\\\\n",
      "y_j = c+jh_y \\; \\text{pour} \\; j=0,\\cdots,M+1.\n",
      "\\end{array}\n",
      "$$"
     ]
    },
    {
     "cell_type": "markdown",
     "metadata": {
      "internals": {},
      "slideshow": {
       "slide_type": "-"
      }
     },
     "source": [
      "On cherche \u00e0 calculer une solution approch\u00e9e not\u00e9e $u_{i,j}$ aux points $(x_i, y_j)$. En utilisant des approximations de Taylor dans les deux directions, on approche le Laplacien par"
     ]
    },
    {
     "cell_type": "markdown",
     "metadata": {
      "internals": {
       "slide_helper": "subslide_end"
      },
      "slide_helper": "subslide_end",
      "slideshow": {
       "slide_type": "-"
      }
     },
     "source": [
      "$$\n",
      "\\Delta u(x_i, y_j) \\approx \\frac{u_{i-1,j}-2u_{i,j}+u_{i+1,j}}{h_x^2}+\\frac{u_{i,j-1}-2u_{i,j}+u_{i,j+1}}{h_y^2}.\n",
      "$$"
     ]
    },
    {
     "cell_type": "markdown",
     "metadata": {
      "internals": {
       "slide_type": "subslide"
      },
      "slideshow": {
       "slide_type": "subslide"
      }
     },
     "source": [
      "On r\u00e9sout donc le probl\u00e8me discret suivant"
     ]
    },
    {
     "cell_type": "markdown",
     "metadata": {
      "internals": {
       "slide_helper": "subslide_end"
      },
      "slide_helper": "subslide_end",
      "slideshow": {
       "slide_type": "-"
      }
     },
     "source": [
      "$$\n",
      "\\left\\{\n",
      "\\begin{array}{l}\n",
      "\\frac{-u_{i-1,j}+2u_{i,j}-u_{i+1,j}}{h_x^2}+\\frac{-u_{i,j-1}+2u_{i,j}-u_{i,j+1}}{h_y^2} = f_{i,j} \\; \\text{pour} \\; i=1,\\cdots,N \\; \\text{et} \\; j=1,\\cdots,M, \\\\\\\\\n",
      "u_{0,j} = g^1_j \\; \\text{pour} \\; j=1,\\cdots,M, \\\\\\\\\n",
      "u_{N+1,j} = g^2_j \\; \\text{pour} \\; j=1,\\cdots,M, \\\\\\\\\n",
      "u_{i,0} = g^3_i \\; \\text{pour} \\; i=1,\\cdots,N, \\\\\\\\\n",
      "u_{i,M+1} = g^4_i \\; \\text{pour} \\; i=1,\\cdots,N.\n",
      "\\end{array}\n",
      "\\right.\n",
      "$$"
     ]
    },
    {
     "cell_type": "markdown",
     "metadata": {
      "internals": {
       "slide_type": "subslide"
      },
      "slideshow": {
       "slide_type": "subslide"
      }
     },
     "source": [
      "ce qui peut \u00e9galement se r\u00e9\u00e9crire sous la forme matriciel suivante"
     ]
    },
    {
     "cell_type": "markdown",
     "metadata": {
      "internals": {},
      "slideshow": {
       "slide_type": "-"
      }
     },
     "source": [
      "$$\n",
      "Au=\n",
      "\\left[\n",
      "\\begin{array}{ccccc}\n",
      "A_x & A_y & 0 & \\cdots & 0 \\\\\n",
      "A_y & A_x & A_y & \\ddots & \\vdots \\\\\n",
      "0 & \\ddots & \\ddots& \\ddots & 0\\\\\n",
      "\\vdots& \\ddots& A_y & A_x & A_y \\\\\n",
      "0& \\cdots& 0& A_y & A_x \n",
      "\\end{array}\n",
      "\\right]u = b\n",
      "$$"
     ]
    },
    {
     "cell_type": "markdown",
     "metadata": {
      "internals": {},
      "slideshow": {
       "slide_type": "-"
      }
     },
     "source": [
      "avec"
     ]
    },
    {
     "cell_type": "markdown",
     "metadata": {
      "internals": {},
      "slideshow": {
       "slide_type": "-"
      }
     },
     "source": [
      "$$\n",
      "A_x=\n",
      "\\left[\n",
      "\\begin{array}{ccccc}\n",
      "\\frac{2}{h_x^2} + \\frac{2}{h_y^2} & -\\frac{1}{h_x^2} & 0 & \\cdots & 0 \\\\\n",
      "-\\frac{1}{h_x^2} & \\frac{2}{h_x^2} + \\frac{2}{h_y^2} & -\\frac{1}{h_x^2} & \\ddots & \\vdots \\\\\n",
      "0 & \\ddots & \\ddots& \\ddots & 0\\\\\n",
      "\\vdots& \\ddots& -\\frac{1}{h_x^2} & \\frac{2}{h_x^2} + \\frac{2}{h_y^2} & -\\frac{1}{h_x^2} \\\\\n",
      "0& \\cdots& 0& -\\frac{1}{h_x^2} & \\frac{2}{h_x^2} + \\frac{2}{h_y^2}\n",
      "\\end{array}\n",
      "\\right]\n",
      "$$"
     ]
    },
    {
     "cell_type": "markdown",
     "metadata": {
      "internals": {},
      "slideshow": {
       "slide_type": "-"
      }
     },
     "source": [
      "et "
     ]
    },
    {
     "cell_type": "markdown",
     "metadata": {
      "internals": {
       "slide_helper": "subslide_end"
      },
      "slide_helper": "slide_end",
      "slideshow": {
       "slide_type": "-"
      }
     },
     "source": [
      "$$\n",
      "A_y=\n",
      "\\left[\n",
      "\\begin{array}{ccccc}\n",
      "-\\frac{1}{h_y^2} & 0 & \\cdots& \\cdots & 0 \\\\\n",
      "0 & -\\frac{1}{h_y^2} & \\ddots && \\vdots \\\\\n",
      "\\vdots & \\ddots & \\ddots& \\ddots& \\vdots \\\\\n",
      "\\vdots& & \\ddots& -\\frac{1}{h_y^2}  & 0 \\\\\n",
      "0& \\cdots& 0& 0 &  -\\frac{1}{h_y^2}\n",
      "\\end{array}\n",
      "\\right]\n",
      "$$"
     ]
    },
    {
     "cell_type": "markdown",
     "metadata": {
      "internals": {
       "slide_type": "subslide"
      },
      "slideshow": {
       "slide_type": "slide"
      }
     },
     "source": [
      "# Construction de la matrice creuse"
     ]
    },
    {
     "cell_type": "markdown",
     "metadata": {
      "internals": {
       "slide_helper": "subslide_end"
      },
      "slide_helper": "subslide_end",
      "slideshow": {
       "slide_type": "-"
      }
     },
     "source": [
      "Dans **scipy**, le module ***sparse*** offre de nombreux formats de matrices creuses.\n",
      "\n",
      "  - **bsr_matrix**: Block Sparse Row matrix\n",
      "  - **coo_matrix**: A sparse matrix in COOrdinate format\n",
      "  - **csc_matrix**: Compressed Sparse Column matrix\n",
      "  - **csr_matrix**: Compressed Sparse Row matrix\n",
      "  - **dia_matrix**: Sparse matrix with DIAgonal storage\n",
      "  - **dok_matrix**: Dictionary Of Keys based sparse matrix\n",
      "  - **lil_matrix**: Row-based linked list sparse matrix\n"
     ]
    },
    {
     "cell_type": "markdown",
     "metadata": {
      "internals": {
       "slide_helper": "subslide_end",
       "slide_type": "subslide"
      },
      "slide_helper": "slide_end",
      "slideshow": {
       "slide_type": "subslide"
      }
     },
     "source": [
      "Il fournit \u00e9galement un ensemble de fonctions pour aider \u00e0 construire ces matrices.\n",
      "\n",
      "   - **eye**: Sparse MxN matrix whose k-th diagonal is all ones\n",
      "   - **identity**: Identity matrix in sparse format\n",
      "   - **kron**: kronecker product of two sparse matrices\n",
      "   - **kronsum**: kronecker sum of sparse matrices\n",
      "   - **diags**: Return a sparse matrix from diagonals\n",
      "   - **spdiags**: Return a sparse matrix from diagonals\n",
      "   - **block_diag**: Build a block diagonal sparse matrix\n",
      "   - **tril**: Lower triangular portion of a matrix in sparse format\n",
      "   - **triu**: Upper triangular portion of a matrix in sparse format\n",
      "   - **bmat**: Build a sparse matrix from sparse sub-blocks\n",
      "   - **hstack**: Stack sparse matrices horizontally (column wise)\n",
      "   - **vstack**: Stack sparse matrices vertically (row wise)\n",
      "   - **rand**: Random values in a given shape\n"
     ]
    },
    {
     "cell_type": "markdown",
     "metadata": {
      "internals": {
       "slide_type": "subslide"
      },
      "slideshow": {
       "slide_type": "slide"
      }
     },
     "source": [
      "# Initialisation des param\u00e8tres"
     ]
    },
    {
     "cell_type": "code",
     "collapsed": false,
     "input": [
      "import numpy as np\n",
      "dim = 3\n",
      "N = 99\n",
      "dx = 1./(N + 1)\n",
      "L = 1.\n",
      "x = np.arange(dx, L, dx)\n",
      "print x"
     ],
     "language": "python",
     "metadata": {
      "internals": {
       "slide_helper": "subslide_end"
      },
      "slide_helper": "slide_end",
      "slideshow": {
       "slide_type": "-"
      }
     },
     "outputs": [
      {
       "output_type": "stream",
       "stream": "stdout",
       "text": [
        "[ 0.01  0.02  0.03  0.04  0.05  0.06  0.07  0.08  0.09  0.1   0.11  0.12\n",
        "  0.13  0.14  0.15  0.16  0.17  0.18  0.19  0.2   0.21  0.22  0.23  0.24\n",
        "  0.25  0.26  0.27  0.28  0.29  0.3   0.31  0.32  0.33  0.34  0.35  0.36\n",
        "  0.37  0.38  0.39  0.4   0.41  0.42  0.43  0.44  0.45  0.46  0.47  0.48\n",
        "  0.49  0.5   0.51  0.52  0.53  0.54  0.55  0.56  0.57  0.58  0.59  0.6\n",
        "  0.61  0.62  0.63  0.64  0.65  0.66  0.67  0.68  0.69  0.7   0.71  0.72\n",
        "  0.73  0.74  0.75  0.76  0.77  0.78  0.79  0.8   0.81  0.82  0.83  0.84\n",
        "  0.85  0.86  0.87  0.88  0.89  0.9   0.91  0.92  0.93  0.94  0.95  0.96\n",
        "  0.97  0.98  0.99]\n"
       ]
      }
     ],
     "prompt_number": 9
    },
    {
     "cell_type": "markdown",
     "metadata": {
      "internals": {
       "slide_type": "subslide"
      },
      "slideshow": {
       "slide_type": "slide"
      }
     },
     "source": [
      "# Construction de la matrice"
     ]
    },
    {
     "cell_type": "code",
     "collapsed": false,
     "input": [
      "import scipy.sparse as sps\n",
      "\n",
      "if (dim==1):\n",
      "    A = sps.spdiags([-np.ones(N), 2*np.ones(N), -np.ones(N)],[-1, 0, 1], N, N) # 1D poisson matrix\n",
      "\n",
      "if (dim==2):\n",
      "    M1D = sps.spdiags([-np.ones(N), 2*np.ones(N), -np.ones(N)],[-1, 0, 1], N, N) \n",
      "    I1 = sps.eye(N)\n",
      "    A = sps.kron(M1D, I1) + sps.kron(I1, M1D)  # 2D poisson matrix (kronecker product)\n",
      "    \n",
      "if (dim==3):\n",
      "    M1D = sps.spdiags([-np.ones(N), 2*np.ones(N), -np.ones(N)],[-1, 0, 1], N, N) \n",
      "    I1 = sps.eye(N)\n",
      "    M2D = sps.kron(M1D, I1) + sps.kron(I1, M1D)  \n",
      "    I2 = sps.eye(N**2)\n",
      "    A = sps.kron(M2D, I1) + sps.kron(I2, M1D) # 3D poisson matrix (kronecker product)\n",
      "\n",
      "print A"
     ],
     "language": "python",
     "metadata": {
      "internals": {
       "slide_helper": "subslide_end"
      },
      "slide_helper": "slide_end",
      "slideshow": {
       "slide_type": "-"
      }
     },
     "outputs": [
      {
       "output_type": "stream",
       "stream": "stdout",
       "text": [
        "  (0, 0)\t6.0\n",
        "  (0, 1)\t-1.0\n",
        "  (0, 99)\t-1.0\n",
        "  (0, 9801)\t-1.0\n",
        "  (1, 0)\t-1.0\n",
        "  (1, 1)\t6.0\n",
        "  (1, 2)\t-1.0\n",
        "  (1, 100)\t-1.0\n",
        "  (1, 9802)\t-1.0\n",
        "  (2, 1)\t-1.0\n",
        "  (2, 2)\t6.0\n",
        "  (2, 3)\t-1.0\n",
        "  (2, 101)\t-1.0\n",
        "  (2, 9803)\t-1.0\n",
        "  (3, 2)\t-1.0\n",
        "  (3, 3)\t6.0\n",
        "  (3, 4)\t-1.0\n",
        "  (3, 102)\t-1.0\n",
        "  (3, 9804)\t-1.0\n",
        "  (4, 3)\t-1.0\n",
        "  (4, 4)\t6.0\n",
        "  (4, 5)\t-1.0\n",
        "  (4, 103)\t-1.0\n",
        "  (4, 9805)\t-1.0\n",
        "  (5, 4)\t-1.0\n",
        "  :\t:\n",
        "  (970293, 970294)\t-1.0\n",
        "  (970294, 960493)\t-1.0\n",
        "  (970294, 970195)\t-1.0\n",
        "  (970294, 970293)\t-1.0\n",
        "  (970294, 970294)\t6.0\n",
        "  (970294, 970295)\t-1.0\n",
        "  (970295, 960494)\t-1.0\n",
        "  (970295, 970196)\t-1.0\n",
        "  (970295, 970294)\t-1.0\n",
        "  (970295, 970295)\t6.0\n",
        "  (970295, 970296)\t-1.0\n",
        "  (970296, 960495)\t-1.0\n",
        "  (970296, 970197)\t-1.0\n",
        "  (970296, 970295)\t-1.0\n",
        "  (970296, 970296)\t6.0\n",
        "  (970296, 970297)\t-1.0\n",
        "  (970297, 960496)\t-1.0\n",
        "  (970297, 970198)\t-1.0\n",
        "  (970297, 970296)\t-1.0\n",
        "  (970297, 970297)\t6.0\n",
        "  (970297, 970298)\t-1.0\n",
        "  (970298, 960497)\t-1.0\n",
        "  (970298, 970199)\t-1.0\n",
        "  (970298, 970297)\t-1.0\n",
        "  (970298, 970298)\t6.0\n"
       ]
      }
     ],
     "prompt_number": 10
    },
    {
     "cell_type": "markdown",
     "metadata": {
      "internals": {
       "slide_type": "subslide"
      },
      "slideshow": {
       "slide_type": "slide"
      }
     },
     "source": [
      "# Construction du second membre"
     ]
    },
    {
     "cell_type": "code",
     "collapsed": false,
     "input": [
      "b = np.ones(N**dim)*dx**2"
     ],
     "language": "python",
     "metadata": {
      "internals": {
       "slide_helper": "subslide_end"
      },
      "slide_helper": "slide_end",
      "slideshow": {
       "slide_type": "-"
      }
     },
     "outputs": [],
     "prompt_number": 11
    },
    {
     "cell_type": "markdown",
     "metadata": {
      "internals": {
       "slide_type": "subslide"
      },
      "slideshow": {
       "slide_type": "slide"
      }
     },
     "source": [
      "# R\u00e9solution du syst\u00e8me"
     ]
    },
    {
     "cell_type": "markdown",
     "metadata": {
      "internals": {},
      "slideshow": {
       "slide_type": "-"
      }
     },
     "source": [
      "Pour la r\u00e9solution de syst\u00e8mes faisant intervenir des matrices creuses, il faut utiliser le module **linalg** se trouvant dans **scipy.sparse**. Les solveurs disponibles sont"
     ]
    },
    {
     "cell_type": "code",
     "collapsed": true,
     "input": [
      "import scipy.sparse.linalg as linalg\n",
      "#help(linalg)"
     ],
     "language": "python",
     "metadata": {
      "internals": {
       "slide_helper": "subslide_end"
      },
      "slide_helper": "subslide_end",
      "slideshow": {
       "slide_type": "-"
      }
     },
     "outputs": [],
     "prompt_number": 12
    },
    {
     "cell_type": "code",
     "collapsed": false,
     "input": [
      "k = 0\n",
      "def get_residual(xk):\n",
      "    global k\n",
      "    print \"---> iteration : \", k, \"/\", xk.shape[0], \" residu = \", np.linalg.norm(A*xk-b)\n",
      "    k += 1\n",
      "\n",
      "sol, info = linalg.cg(A, b, x0=np.zeros(N**dim), tol=1e-6, maxiter=N**dim, \n",
      "                      M=None, callback=get_residual)"
     ],
     "language": "python",
     "metadata": {
      "internals": {
       "slide_type": "subslide"
      },
      "slideshow": {
       "slide_type": "subslide"
      }
     },
     "outputs": [
      {
       "output_type": "stream",
       "stream": "stdout",
       "text": [
        "---> iteration :  0 / 970299  residu =  0.396061870163\n",
        "---> iteration :  1 / 970299  residu =  "
       ]
      },
      {
       "output_type": "stream",
       "stream": "stdout",
       "text": [
        "0.38770276591\n",
        "---> iteration :  2 / 970299  residu =  0.409715422\n",
        "---> iteration : "
       ]
      },
      {
       "output_type": "stream",
       "stream": "stdout",
       "text": [
        " 3 / 970299  residu =  0.439764918841\n",
        "---> iteration :  4 / 970299  residu =  "
       ]
      },
      {
       "output_type": "stream",
       "stream": "stdout",
       "text": [
        "0.40938041361\n",
        "---> iteration :  5 / 970299  residu =  0.449025884839\n",
        "---> iteration : "
       ]
      },
      {
       "output_type": "stream",
       "stream": "stdout",
       "text": [
        " 6 / 970299  residu =  0.434171400477\n",
        "---> iteration :  7 / 970299  residu =  "
       ]
      },
      {
       "output_type": "stream",
       "stream": "stdout",
       "text": [
        "0.417775769813\n",
        "---> iteration :  8 / 970299  residu =  0.423149041342\n",
        "---> iteration : "
       ]
      },
      {
       "output_type": "stream",
       "stream": "stdout",
       "text": [
        " 9 / 970299  residu =  0.403372072863\n",
        "---> iteration :  10 / 970299  residu =  "
       ]
      },
      {
       "output_type": "stream",
       "stream": "stdout",
       "text": [
        "0.403267889272\n",
        "---> iteration :  11 / 970299  residu =  0.390296462381\n",
        "---> iteration : "
       ]
      },
      {
       "output_type": "stream",
       "stream": "stdout",
       "text": [
        " 12 / 970299  residu =  0.383121574244\n",
        "---> iteration :  13 / 970299  residu =  "
       ]
      },
      {
       "output_type": "stream",
       "stream": "stdout",
       "text": [
        "0.376091548605\n",
        "---> iteration :  14 / 970299  residu =  0.364595985833\n",
        "---> iteration : "
       ]
      },
      {
       "output_type": "stream",
       "stream": "stdout",
       "text": [
        " 15 / 970299  residu =  0.360663896644\n",
        "---> iteration :  16 / 970299  residu =  "
       ]
      },
      {
       "output_type": "stream",
       "stream": "stdout",
       "text": [
        "0.348593500016\n",
        "---> iteration :  17 / 970299  residu =  0.342920256265\n",
        "---> iteration : "
       ]
      },
      {
       "output_type": "stream",
       "stream": "stdout",
       "text": [
        " 18 / 970299  residu =  0.334810286053\n",
        "---> iteration :  19 / 970299  residu =  "
       ]
      },
      {
       "output_type": "stream",
       "stream": "stdout",
       "text": [
        "0.325127282558\n",
        "---> iteration :  20 / 970299  residu =  0.320515973683\n",
        "---> iteration : "
       ]
      },
      {
       "output_type": "stream",
       "stream": "stdout",
       "text": [
        " 21 / 970299  residu =  0.309813985366\n",
        "---> iteration :  22 / 970299  residu =  "
       ]
      },
      {
       "output_type": "stream",
       "stream": "stdout",
       "text": [
        "0.304151884652\n",
        "---> iteration :  23 / 970299  residu =  0.296672909416\n",
        "---> iteration : "
       ]
      },
      {
       "output_type": "stream",
       "stream": "stdout",
       "text": [
        " 24 / 970299  residu =  0.287805680439\n",
        "---> iteration :  25 / 970299  residu =  "
       ]
      },
      {
       "output_type": "stream",
       "stream": "stdout",
       "text": [
        "0.283040594863\n",
        "---> iteration :  26 / 970299  residu =  0.273671762558\n",
        "---> iteration : "
       ]
      },
      {
       "output_type": "stream",
       "stream": "stdout",
       "text": [
        " 27 / 970299  residu =  0.267863968358\n",
        "---> iteration :  28 / 970299  residu =  "
       ]
      },
      {
       "output_type": "stream",
       "stream": "stdout",
       "text": [
        "0.261202628262\n",
        "---> iteration :  29 / 970299  residu =  0.252993524177\n",
        "---> iteration : "
       ]
      },
      {
       "output_type": "stream",
       "stream": "stdout",
       "text": [
        " 30 / 970299  residu =  0.24820655863\n",
        "---> iteration :  31 / 970299  residu =  "
       ]
      },
      {
       "output_type": "stream",
       "stream": "stdout",
       "text": [
        "0.240022309103\n",
        "---> iteration :  32 / 970299  residu =  0.234164431619\n",
        "---> iteration : "
       ]
      },
      {
       "output_type": "stream",
       "stream": "stdout",
       "text": [
        " 33 / 970299  residu =  0.228223163044\n",
        "---> iteration :  34 / 970299  residu =  "
       ]
      },
      {
       "output_type": "stream",
       "stream": "stdout",
       "text": [
        "0.220663307557\n",
        "---> iteration :  35 / 970299  residu =  0.215908937624\n",
        "---> iteration : "
       ]
      },
      {
       "output_type": "stream",
       "stream": "stdout",
       "text": [
        " 36 / 970299  residu =  0.208746138379\n",
        "---> iteration :  37 / 970299  residu =  "
       ]
      },
      {
       "output_type": "stream",
       "stream": "stdout",
       "text": [
        "0.202965111907\n",
        "---> iteration :  38 / 970299  residu =  0.197608958972\n",
        "---> iteration : "
       ]
      },
      {
       "output_type": "stream",
       "stream": "stdout",
       "text": [
        " 39 / 970299  residu =  0.190701922699\n",
        "---> iteration :  40 / 970299  residu =  "
       ]
      },
      {
       "output_type": "stream",
       "stream": "stdout",
       "text": [
        "0.186019594494\n",
        "---> iteration :  41 / 970299  residu =  0.179724498401\n",
        "---> iteration : "
       ]
      },
      {
       "output_type": "stream",
       "stream": "stdout",
       "text": [
        " 42 / 970299  residu =  0.174129335877\n",
        "---> iteration :  43 / 970299  residu =  "
       ]
      },
      {
       "output_type": "stream",
       "stream": "stdout",
       "text": [
        "0.169240229205\n",
        "---> iteration :  44 / 970299  residu =  0.16297400531\n",
        "---> iteration : "
       ]
      },
      {
       "output_type": "stream",
       "stream": "stdout",
       "text": [
        " 45 / 970299  residu =  0.158400806062\n",
        "---> iteration :  46 / 970299  residu =  "
       ]
      },
      {
       "output_type": "stream",
       "stream": "stdout",
       "text": [
        "0.152834886167\n",
        "---> iteration :  47 / 970299  residu =  0.147506920114\n",
        "---> iteration : "
       ]
      },
      {
       "output_type": "stream",
       "stream": "stdout",
       "text": [
        " 48 / 970299  residu =  0.142992991964\n",
        "---> iteration :  49 / 970299  residu =  "
       ]
      },
      {
       "output_type": "stream",
       "stream": "stdout",
       "text": [
        "0.137337126689\n",
        "---> iteration :  50 / 970299  residu =  0.132908444841\n",
        "---> iteration : "
       ]
      },
      {
       "output_type": "stream",
       "stream": "stdout",
       "text": [
        " 51 / 970299  residu =  0.127949399913\n",
        "---> iteration :  52 / 970299  residu =  "
       ]
      },
      {
       "output_type": "stream",
       "stream": "stdout",
       "text": [
        "0.122942318718\n",
        "---> iteration :  53 / 970299  residu =  0.11873564613\n",
        "---> iteration : "
       ]
      },
      {
       "output_type": "stream",
       "stream": "stdout",
       "text": [
        " 54 / 970299  residu =  0.113644320857\n",
        "---> iteration :  55 / 970299  residu =  "
       ]
      },
      {
       "output_type": "stream",
       "stream": "stdout",
       "text": [
        "0.109391428993\n",
        "---> iteration :  56 / 970299  residu =  0.10493252853\n",
        "---> iteration : "
       ]
      },
      {
       "output_type": "stream",
       "stream": "stdout",
       "text": [
        " 57 / 970299  residu =  0.100274737257\n",
        "---> iteration :  58 / 970299  residu =  "
       ]
      },
      {
       "output_type": "stream",
       "stream": "stdout",
       "text": [
        "0.0963260720692\n",
        "---> iteration :  59 / 970299  residu =  0.0917420158541\n",
        "---> iteration : "
       ]
      },
      {
       "output_type": "stream",
       "stream": "stdout",
       "text": [
        " 60 / 970299  residu =  0.0876890030203\n",
        "---> iteration :  61 / 970299  residu =  "
       ]
      },
      {
       "output_type": "stream",
       "stream": "stdout",
       "text": [
        "0.083637445367\n",
        "---> iteration :  62 / 970299  residu =  0.0793346586464\n",
        "---> iteration : "
       ]
      },
      {
       "output_type": "stream",
       "stream": "stdout",
       "text": [
        " 63 / 970299  residu =  0.075607422133\n",
        "---> iteration :  64 / 970299  residu =  "
       ]
      },
      {
       "output_type": "stream",
       "stream": "stdout",
       "text": [
        "0.0714650603626\n",
        "---> iteration :  65 / 970299  residu =  0.0676257053201\n",
        "---> iteration : "
       ]
      },
      {
       "output_type": "stream",
       "stream": "stdout",
       "text": [
        " 66 / 970299  residu =  0.0638999745705\n",
        "---> iteration :  67 / 970299  residu =  "
       ]
      },
      {
       "output_type": "stream",
       "stream": "stdout",
       "text": [
        "0.0599372435013\n",
        "---> iteration :  68 / 970299  residu =  0.0564012216699\n",
        "---> iteration : "
       ]
      },
      {
       "output_type": "stream",
       "stream": "stdout",
       "text": [
        " 69 / 970299  residu =  0.0526283150911\n",
        "---> iteration :  70 / 970299  residu =  "
       ]
      },
      {
       "output_type": "stream",
       "stream": "stdout",
       "text": [
        "0.0490027427398\n",
        "---> iteration :  71 / 970299  residu =  0.0455286014917\n",
        "---> iteration : "
       ]
      },
      {
       "output_type": "stream",
       "stream": "stdout",
       "text": [
        " 72 / 970299  residu =  0.0418710647864\n",
        "---> iteration :  73 / 970299  residu =  "
       ]
      },
      {
       "output_type": "stream",
       "stream": "stdout",
       "text": [
        "0.0384955042611\n",
        "---> iteration :  74 / 970299  residu =  0.0350129421008\n",
        "---> iteration : "
       ]
      },
      {
       "output_type": "stream",
       "stream": "stdout",
       "text": [
        " 75 / 970299  residu =  0.0315853950283\n",
        "---> iteration :  76 / 970299  residu =  "
       ]
      },
      {
       "output_type": "stream",
       "stream": "stdout",
       "text": [
        "0.0282977104514\n",
        "---> iteration :  77 / 970299  residu =  0.0249149188772\n",
        "---> iteration : "
       ]
      },
      {
       "output_type": "stream",
       "stream": "stdout",
       "text": [
        " 78 / 970299  residu =  0.0217344363869\n",
        "---> iteration :  79 / 970299  residu =  "
       ]
      },
      {
       "output_type": "stream",
       "stream": "stdout",
       "text": [
        "0.018639836613\n",
        "---> iteration :  80 / 970299  residu =  0.0157854951779\n",
        "---> iteration : "
       ]
      },
      {
       "output_type": "stream",
       "stream": "stdout",
       "text": [
        " 81 / 970299  residu =  0.0134250340797\n",
        "---> iteration :  82 / 970299  residu =  "
       ]
      },
      {
       "output_type": "stream",
       "stream": "stdout",
       "text": [
        "0.0116475460922\n",
        "---> iteration :  83 / 970299  residu =  0.0107888004519\n",
        "---> iteration : "
       ]
      },
      {
       "output_type": "stream",
       "stream": "stdout",
       "text": [
        " 84 / 970299  residu =  0.0109889471472\n",
        "---> iteration :  85 / 970299  residu =  "
       ]
      },
      {
       "output_type": "stream",
       "stream": "stdout",
       "text": [
        "0.0122731476666\n",
        "---> iteration :  86 / 970299  residu =  0.0142817729791\n",
        "---> iteration : "
       ]
      },
      {
       "output_type": "stream",
       "stream": "stdout",
       "text": [
        " 87 / 970299  residu =  0.015390532089\n",
        "---> iteration :  88 / 970299  residu =  "
       ]
      },
      {
       "output_type": "stream",
       "stream": "stdout",
       "text": [
        "0.0140614413801\n",
        "---> iteration :  89 / 970299  residu =  0.0110879511987\n",
        "---> iteration : "
       ]
      },
      {
       "output_type": "stream",
       "stream": "stdout",
       "text": [
        " 90 / 970299  residu =  0.00865071244735\n",
        "---> iteration :  91 / 970299  residu =  "
       ]
      },
      {
       "output_type": "stream",
       "stream": "stdout",
       "text": [
        "0.00784298074714\n",
        "---> iteration :  92 / 970299  residu =  0.00836458726744\n",
        "---> iteration : "
       ]
      },
      {
       "output_type": "stream",
       "stream": "stdout",
       "text": [
        " 93 / 970299  residu =  0.00890888812549\n",
        "---> iteration :  94 / 970299  residu =  "
       ]
      },
      {
       "output_type": "stream",
       "stream": "stdout",
       "text": [
        "0.00797075675928\n",
        "---> iteration :  95 / 970299  residu =  0.00636324846839\n",
        "---> iteration : "
       ]
      },
      {
       "output_type": "stream",
       "stream": "stdout",
       "text": [
        " 96 / 970299  residu =  0.00566662053323\n",
        "---> iteration :  97 / 970299  residu =  "
       ]
      },
      {
       "output_type": "stream",
       "stream": "stdout",
       "text": [
        "0.00591167575037\n",
        "---> iteration :  98 / 970299  residu =  0.00595127143001\n",
        "---> iteration : "
       ]
      },
      {
       "output_type": "stream",
       "stream": "stdout",
       "text": [
        " 99 / 970299  residu =  0.00505167415351\n",
        "---> iteration :  100 / 970299  residu =  "
       ]
      },
      {
       "output_type": "stream",
       "stream": "stdout",
       "text": [
        "0.00423760514711\n",
        "---> iteration :  101 / 970299  residu =  0.00418497441032\n",
        "---> iteration : "
       ]
      },
      {
       "output_type": "stream",
       "stream": "stdout",
       "text": [
        " 102 / 970299  residu =  0.00427720895826\n",
        "---> iteration :  103 / 970299  residu =  "
       ]
      },
      {
       "output_type": "stream",
       "stream": "stdout",
       "text": [
        "0.00372982775373\n",
        "---> iteration :  104 / 970299  residu =  0.00315796982901\n",
        "---> iteration : "
       ]
      },
      {
       "output_type": "stream",
       "stream": "stdout",
       "text": [
        " 105 / 970299  residu =  0.00309121411892\n",
        "---> iteration :  106 / 970299  residu =  "
       ]
      },
      {
       "output_type": "stream",
       "stream": "stdout",
       "text": [
        "0.00310825277094\n",
        "---> iteration :  107 / 970299  residu =  0.00269829337387\n",
        "---> iteration : "
       ]
      },
      {
       "output_type": "stream",
       "stream": "stdout",
       "text": [
        " 108 / 970299  residu =  0.0023512535179\n",
        "---> iteration :  109 / 970299  residu =  "
       ]
      },
      {
       "output_type": "stream",
       "stream": "stdout",
       "text": [
        "0.00236552443534\n",
        "---> iteration :  110 / 970299  residu =  0.0022903351025\n",
        "---> iteration : "
       ]
      },
      {
       "output_type": "stream",
       "stream": "stdout",
       "text": [
        " 111 / 970299  residu =  0.00196392827455\n",
        "---> iteration :  112 / 970299  residu =  "
       ]
      },
      {
       "output_type": "stream",
       "stream": "stdout",
       "text": [
        "0.00182628575543\n",
        "---> iteration :  113 / 970299  residu =  0.00185518152898\n",
        "---> iteration : "
       ]
      },
      {
       "output_type": "stream",
       "stream": "stdout",
       "text": [
        " 114 / 970299  residu =  0.00169307510833\n",
        "---> iteration :  115 / 970299  residu =  "
       ]
      },
      {
       "output_type": "stream",
       "stream": "stdout",
       "text": [
        "0.00148342105389\n",
        "---> iteration :  116 / 970299  residu =  0.00146507456766\n",
        "---> iteration : "
       ]
      },
      {
       "output_type": "stream",
       "stream": "stdout",
       "text": [
        " 117 / 970299  residu =  0.00141065427661\n",
        "---> iteration :  118 / 970299  residu =  "
       ]
      },
      {
       "output_type": "stream",
       "stream": "stdout",
       "text": [
        "0.00120668260192\n",
        "---> iteration :  119 / 970299  residu =  0.00111232309398\n",
        "---> iteration : "
       ]
      },
      {
       "output_type": "stream",
       "stream": "stdout",
       "text": [
        " 120 / 970299  residu =  0.00107880967445\n",
        "---> iteration :  121 / 970299  residu =  "
       ]
      },
      {
       "output_type": "stream",
       "stream": "stdout",
       "text": [
        "0.000936593344595\n",
        "---> iteration :  122 / 970299  residu =  0.000833315106916\n",
        "---> iteration : "
       ]
      },
      {
       "output_type": "stream",
       "stream": "stdout",
       "text": [
        " 123 / 970299  residu =  0.000818500739061\n",
        "---> iteration :  124 / 970299  residu =  "
       ]
      },
      {
       "output_type": "stream",
       "stream": "stdout",
       "text": [
        "0.000741438910738\n",
        "---> iteration :  125 / 970299  residu =  0.000639792350387\n",
        "---> iteration : "
       ]
      },
      {
       "output_type": "stream",
       "stream": "stdout",
       "text": [
        " 126 / 970299  residu =  0.000612280824934\n",
        "---> iteration :  127 / 970299  residu =  "
       ]
      },
      {
       "output_type": "stream",
       "stream": "stdout",
       "text": [
        "0.000569753823469\n",
        "---> iteration :  128 / 970299  residu =  0.000487361865657\n",
        "---> iteration : "
       ]
      },
      {
       "output_type": "stream",
       "stream": "stdout",
       "text": [
        " 129 / 970299  residu =  0.000455538387951\n",
        "---> iteration :  130 / 970299  residu =  "
       ]
      },
      {
       "output_type": "stream",
       "stream": "stdout",
       "text": [
        "0.000428887988474\n",
        "---> iteration :  131 / 970299  residu =  0.000366409836298\n",
        "---> iteration : "
       ]
      },
      {
       "output_type": "stream",
       "stream": "stdout",
       "text": [
        " 132 / 970299  residu =  0.000335769294191\n",
        "---> iteration :  133 / 970299  residu =  "
       ]
      },
      {
       "output_type": "stream",
       "stream": "stdout",
       "text": [
        "0.000316486083956\n",
        "---> iteration :  134 / 970299  residu =  0.000271017236053\n",
        "---> iteration : "
       ]
      },
      {
       "output_type": "stream",
       "stream": "stdout",
       "text": [
        " 135 / 970299  residu =  0.000244380453032\n",
        "---> iteration :  136 / 970299  residu =  "
       ]
      },
      {
       "output_type": "stream",
       "stream": "stdout",
       "text": [
        "0.000228808346438\n",
        "---> iteration :  137 / 970299  residu =  0.000196842957045\n",
        "---> iteration : "
       ]
      },
      {
       "output_type": "stream",
       "stream": "stdout",
       "text": [
        " 138 / 970299  residu =  0.000174746442542\n",
        "---> iteration :  139 / 970299  residu =  "
       ]
      },
      {
       "output_type": "stream",
       "stream": "stdout",
       "text": [
        "0.000162009005072\n",
        "---> iteration :  140 / 970299  residu =  0.000140170393439\n",
        "---> iteration : "
       ]
      },
      {
       "output_type": "stream",
       "stream": "stdout",
       "text": [
        " 141 / 970299  residu =  0.000121918266893\n",
        "---> iteration :  142 / 970299  residu =  "
       ]
      },
      {
       "output_type": "stream",
       "stream": "stdout",
       "text": [
        "0.00011278803831\n",
        "---> iteration :  143 / 970299  residu =  9.71047946402e-05\n",
        "---> iteration : "
       ]
      },
      {
       "output_type": "stream",
       "stream": "stdout",
       "text": [
        " 144 / 970299  residu =  8.30562861464e-05\n",
        "---> iteration :  145 / 970299  residu =  "
       ]
      },
      {
       "output_type": "stream",
       "stream": "stdout",
       "text": [
        "7.73639513148e-05\n",
        "---> iteration :  146 / 970299  residu =  6.47945618422e-05\n",
        "---> iteration : "
       ]
      },
      {
       "output_type": "stream",
       "stream": "stdout",
       "text": [
        " 147 / 970299  residu =  5.62270400473e-05\n",
        "---> iteration :  148 / 970299  residu =  "
       ]
      },
      {
       "output_type": "stream",
       "stream": "stdout",
       "text": [
        "5.12183177094e-05\n",
        "---> iteration :  149 / 970299  residu =  4.27957859702e-05\n",
        "---> iteration : "
       ]
      },
      {
       "output_type": "stream",
       "stream": "stdout",
       "text": [
        " 150 / 970299  residu =  3.76824543245e-05\n",
        "---> iteration :  151 / 970299  residu =  "
       ]
      },
      {
       "output_type": "stream",
       "stream": "stdout",
       "text": [
        "3.29377000597e-05\n",
        "---> iteration :  152 / 970299  residu =  2.8398043352e-05\n",
        "---> iteration : "
       ]
      },
      {
       "output_type": "stream",
       "stream": "stdout",
       "text": [
        " 153 / 970299  residu =  2.42434414002e-05\n",
        "---> iteration :  154 / 970299  residu =  "
       ]
      },
      {
       "output_type": "stream",
       "stream": "stdout",
       "text": [
        "2.19434700124e-05\n",
        "---> iteration :  155 / 970299  residu =  1.87619514372e-05\n",
        "---> iteration : "
       ]
      },
      {
       "output_type": "stream",
       "stream": "stdout",
       "text": [
        " 156 / 970299  residu =  1.63310548264e-05\n",
        "---> iteration :  157 / 970299  residu =  "
       ]
      },
      {
       "output_type": "stream",
       "stream": "stdout",
       "text": [
        "1.51435533482e-05\n",
        "---> iteration :  158 / 970299  residu =  1.30003908008e-05\n",
        "---> iteration : "
       ]
      },
      {
       "output_type": "stream",
       "stream": "stdout",
       "text": [
        " 159 / 970299  residu =  1.18633098763e-05\n",
        "---> iteration :  160 / 970299  residu =  "
       ]
      },
      {
       "output_type": "stream",
       "stream": "stdout",
       "text": [
        "1.10245446841e-05\n",
        "---> iteration :  161 / 970299  residu =  9.75930500882e-06\n",
        "---> iteration : "
       ]
      },
      {
       "output_type": "stream",
       "stream": "stdout",
       "text": [
        " 162 / 970299  residu =  8.96117140958e-06\n",
        "---> iteration :  163 / 970299  residu =  "
       ]
      },
      {
       "output_type": "stream",
       "stream": "stdout",
       "text": [
        "8.36512112182e-06\n",
        "---> iteration :  164 / 970299  residu =  7.16756818835e-06\n",
        "---> iteration : "
       ]
      },
      {
       "output_type": "stream",
       "stream": "stdout",
       "text": [
        " 165 / 970299  residu =  6.58505785969e-06\n",
        "---> iteration :  166 / 970299  residu =  "
       ]
      },
      {
       "output_type": "stream",
       "stream": "stdout",
       "text": [
        "5.71876227158e-06\n",
        "---> iteration :  167 / 970299  residu =  4.87141808226e-06\n",
        "---> iteration : "
       ]
      },
      {
       "output_type": "stream",
       "stream": "stdout",
       "text": [
        " 168 / 970299  residu =  4.29533434332e-06\n",
        "---> iteration :  169 / 970299  residu =  "
       ]
      },
      {
       "output_type": "stream",
       "stream": "stdout",
       "text": [
        "3.80009079548e-06\n",
        "---> iteration :  170 / 970299  residu =  3.33769635171e-06\n",
        "---> iteration : "
       ]
      },
      {
       "output_type": "stream",
       "stream": "stdout",
       "text": [
        " 171 / 970299  residu =  3.23129226769e-06\n",
        "---> iteration :  172 / 970299  residu =  "
       ]
      },
      {
       "output_type": "stream",
       "stream": "stdout",
       "text": [
        "3.05140312094e-06\n",
        "---> iteration :  173 / 970299  residu =  2.93230984952e-06\n",
        "---> iteration : "
       ]
      },
      {
       "output_type": "stream",
       "stream": "stdout",
       "text": [
        " 174 / 970299  residu =  2.81074863146e-06\n",
        "---> iteration :  175 / 970299  residu =  "
       ]
      },
      {
       "output_type": "stream",
       "stream": "stdout",
       "text": [
        "2.51851642432e-06\n",
        "---> iteration :  176 / 970299  residu =  2.14696986215e-06\n",
        "---> iteration : "
       ]
      },
      {
       "output_type": "stream",
       "stream": "stdout",
       "text": [
        " 177 / 970299  residu =  1.89390030906e-06\n",
        "---> iteration :  178 / 970299  residu =  "
       ]
      },
      {
       "output_type": "stream",
       "stream": "stdout",
       "text": [
        "1.59935122455e-06\n",
        "---> iteration :  179 / 970299  residu =  1.45956802361e-06\n",
        "---> iteration : "
       ]
      },
      {
       "output_type": "stream",
       "stream": "stdout",
       "text": [
        " 180 / 970299  residu =  1.36922512425e-06\n",
        "---> iteration :  181 / 970299  residu =  "
       ]
      },
      {
       "output_type": "stream",
       "stream": "stdout",
       "text": [
        "1.21822070105e-06\n",
        "---> iteration :  182 / 970299  residu =  1.07250039343e-06\n",
        "---> iteration : "
       ]
      },
      {
       "output_type": "stream",
       "stream": "stdout",
       "text": [
        " 183 / 970299  residu =  9.18474962811e-07\n",
        "---> iteration :  184 / 970299  residu =  "
       ]
      },
      {
       "output_type": "stream",
       "stream": "stdout",
       "text": [
        "7.65427097584e-07\n",
        "---> iteration :  185 / 970299  residu =  7.10692520103e-07\n",
        "---> iteration : "
       ]
      },
      {
       "output_type": "stream",
       "stream": "stdout",
       "text": [
        " 186 / 970299  residu =  6.57195988403e-07\n",
        "---> iteration :  187 / 970299  residu =  "
       ]
      },
      {
       "output_type": "stream",
       "stream": "stdout",
       "text": [
        "5.891875031e-07\n",
        "---> iteration :  188 / 970299  residu =  5.22159210911e-07\n",
        "---> iteration : "
       ]
      },
      {
       "output_type": "stream",
       "stream": "stdout",
       "text": [
        " 189 / 970299  residu =  4.2713026486e-07\n",
        "---> iteration :  190 / 970299  residu =  "
       ]
      },
      {
       "output_type": "stream",
       "stream": "stdout",
       "text": [
        "3.65414893363e-07\n",
        "---> iteration :  191 / 970299  residu =  3.28042807253e-07\n",
        "---> iteration : "
       ]
      },
      {
       "output_type": "stream",
       "stream": "stdout",
       "text": [
        " 192 / 970299  residu =  2.82746089668e-07\n",
        "---> iteration :  193 / 970299  residu =  "
       ]
      },
      {
       "output_type": "stream",
       "stream": "stdout",
       "text": [
        "2.41644372146e-07\n",
        "---> iteration :  194 / 970299  residu =  2.07985646458e-07\n",
        "---> iteration : "
       ]
      },
      {
       "output_type": "stream",
       "stream": "stdout",
       "text": [
        " 195 / 970299  residu =  1.7896405154e-07\n",
        "---> iteration :  196 / 970299  residu =  "
       ]
      },
      {
       "output_type": "stream",
       "stream": "stdout",
       "text": [
        "1.66955869635e-07\n",
        "---> iteration :  197 / 970299  residu =  1.45889935129e-07\n",
        "---> iteration : "
       ]
      },
      {
       "output_type": "stream",
       "stream": "stdout",
       "text": [
        " 198 / 970299  residu =  1.21081209887e-07\n",
        "---> iteration :  199 / 970299  residu =  "
       ]
      },
      {
       "output_type": "stream",
       "stream": "stdout",
       "text": [
        "1.03669868941e-07\n",
        "---> iteration :  200 / 970299  residu =  9.10988854691e-08\n"
       ]
      }
     ],
     "prompt_number": 13
    },
    {
     "cell_type": "code",
     "collapsed": false,
     "input": [
      "import vtk\n",
      "from vtk.util import numpy_support\n",
      "\n",
      "def vtkdraw(sol, x):\n",
      "    # Stockage des donnees au format VTK\n",
      "    data = vtk.vtkStructuredGrid()\n",
      "    N = x.shape[0]\n",
      "    data.SetDimensions(N, N, N)\n",
      "    pts = vtk.vtkPoints()\n",
      "\n",
      "    p = np.empty((N**3, 3))\n",
      "    p[:, 0] = np.repeat(x, N**2)\n",
      "    p[:, 1] = np.tile(np.repeat(x, N), N)\n",
      "    p[:, 2] = np.tile(x, N**2)\n",
      "\n",
      "    pts.SetData(numpy_support.numpy_to_vtk(p))\n",
      "    data.SetPoints(pts)\n",
      "\n",
      "    u = numpy_support.numpy_to_vtk(sol)\n",
      "    u.SetName(\"solution\")    \n",
      "    data.GetPointData().SetScalars(u)\n",
      "    data.Update()\n",
      "\n",
      "    # Sortie fichier\n",
      "    w=vtk.vtkXMLStructuredGridWriter()\n",
      "    w.SetFileName(\"Poisson3D.vts\")\n",
      "    w.SetInput(data)\n",
      "    w.Write()\n",
      "\n",
      "    # Table des couleurs\n",
      "    lut=vtk.vtkLookupTable()\n",
      "    lut.SetTableRange(data.GetScalarRange())    \n",
      "    lut.SetNumberOfColors(256)\n",
      "    ctf = vtk.vtkColorTransferFunction()\n",
      "    ctf.SetColorSpaceToDiverging()\n",
      "    ctf.AddRGBPoint(0.0, 0.0, 0.0, 1.0)\n",
      "    ctf.AddRGBPoint(1.0, 1.0, 0.0, 0.0)\n",
      "    for ii in xrange(256):\n",
      "        cc = ctf.GetColor(ii/256.0)\n",
      "        lut.SetTableValue(ii,cc[0],cc[1],cc[2],1.0)\n",
      "    lut.Build()\n",
      "    # Plans de coupe\n",
      "    plane1=vtk.vtkPlaneSource()\n",
      "    plane1.SetCenter(0.5,0.5,0.5)\n",
      "    plane1.SetNormal(1.,0.,0.)\n",
      "    plane1.SetResolution(100,100)\n",
      "    probe1 = vtk.vtkProbeFilter()\n",
      "    probe1.SetInputConnection(plane1.GetOutputPort())\n",
      "    probe1.SetSource(data)\n",
      "    plane2=vtk.vtkPlaneSource()\n",
      "    plane2.SetCenter(0.5,0.5,0.5)\n",
      "    plane2.SetNormal(0.,1.,0.)\n",
      "    plane2.SetResolution(100,100)\n",
      "    probe2 = vtk.vtkProbeFilter()\n",
      "    probe2.SetInputConnection(plane2.GetOutputPort())\n",
      "    probe2.SetSource(data)\n",
      "    plane3=vtk.vtkPlaneSource()\n",
      "    plane3.SetCenter(0.5,0.5,0.5)\n",
      "    plane3.SetNormal(0.,0.,1.)\n",
      "    plane3.SetResolution(100,100)\n",
      "    probe3 = vtk.vtkProbeFilter()\n",
      "    probe3.SetInputConnection(plane3.GetOutputPort())\n",
      "    probe3.SetSource(data)\n",
      "    appendF = vtk.vtkAppendPolyData()\n",
      "    appendF.AddInput(probe1.GetOutput())\n",
      "    appendF.AddInput(probe2.GetOutput())\n",
      "    appendF.AddInput(probe3.GetOutput())\n",
      "    appendF.Update()\n",
      "    # Contours\n",
      "    contour = vtk.vtkContourFilter()\n",
      "    contour.SetInputConnection(appendF.GetOutputPort())\n",
      "    contour.GenerateValues(10, data.GetScalarRange())\n",
      "    # Dessinateurs\n",
      "    map1=vtk.vtkPolyDataMapper()\n",
      "    map1.SetInputConnection(appendF.GetOutputPort())\n",
      "    # Legende des couleurs\n",
      "    map1.SetScalarRange(data.GetScalarRange())\n",
      "    map1.SetLookupTable(lut)\n",
      "    # Acteurs\n",
      "    act1=vtk.vtkActor()\n",
      "    act1.SetMapper(map1)\n",
      "    colorbar = vtk.vtkScalarBarActor()\n",
      "    colorbar.SetLookupTable(lut)\n",
      "    colorbar.SetTitle(u.GetName())\n",
      "    # Fenetre et rendu\n",
      "    ren=vtk.vtkRenderer()\n",
      "    renwin=vtk.vtkRenderWindow()\n",
      "    renwin.SetSize(800, 500)\n",
      "    renwin.AddRenderer(ren)\n",
      "    iren=vtk.vtkRenderWindowInteractor()\n",
      "    iren.SetRenderWindow(renwin)\n",
      "    iren.GetInteractorStyle().SetCurrentStyleToTrackballActor()\n",
      "    iren.GetInteractorStyle().SetCurrentStyleToTrackballCamera()\n",
      "    ren.AddActor(act1)\n",
      "    ren.AddActor(colorbar)\n",
      "    ren.GetActiveCamera().SetPosition(-1.46361, 1.62343, -1.09037)\n",
      "    ren.GetActiveCamera().SetFocalPoint(0.5, 0.5, 0.5)\n",
      "    ren.GetActiveCamera().SetViewUp(0.288314, 0.912913, 0.288904)\n",
      "    ren.SetBackground(222.0/255.0,230.0/255.0,255.0/255.0)\n",
      "    iren.Initialize()\n",
      "    renwin.Render()\n",
      "    iren.Start()\n",
      "    #print ren.GetActiveCamera()\n"
     ],
     "language": "python",
     "metadata": {
      "internals": {
       "slide_helper": "subslide_end"
      },
      "slide_helper": "slide_end",
      "slideshow": {
       "slide_type": "skip"
      }
     },
     "outputs": [],
     "prompt_number": 14
    },
    {
     "cell_type": "markdown",
     "metadata": {
      "internals": {
       "slide_type": "subslide"
      },
      "slideshow": {
       "slide_type": "slide"
      }
     },
     "source": [
      "# Affichage de la solution\n",
      "\n",
      "On utilise **matplotlib** pour repr\u00e9senter les solutions 1D et 2D et **VTK** pour les solutions 3D."
     ]
    },
    {
     "cell_type": "code",
     "collapsed": false,
     "input": [
      "%matplotlib inline\n",
      "import matplotlib.pyplot as plt\n",
      "if (dim==1):\n",
      "    plt.figure(1)\n",
      "    plt.plot(sol)\n",
      "    plt.title('Poisson 1D')\n",
      "    plt.show()\n",
      "if (dim==2):\n",
      "    fig=plt.figure(1)\n",
      "    X,Y = sp.meshgrid(x, x)\n",
      "    plt.contourf(X, Y, sp.reshape(sol, (N, N)), cmap=cm.coolwarm)\n",
      "    plt.title('Poisson 2D')\n",
      "    plt.show()\n",
      "if (dim==3):\n",
      "    vtkdraw(sol, x)\n"
     ],
     "language": "python",
     "metadata": {
      "internals": {},
      "slideshow": {
       "slide_type": "-"
      }
     },
     "outputs": [],
     "prompt_number": 15
    },
    {
     "cell_type": "code",
     "collapsed": false,
     "input": [],
     "language": "python",
     "metadata": {
      "internals": {
       "slide_helper": "subslide_end"
      },
      "slide_helper": "slide_end",
      "slideshow": {
       "slide_type": "-"
      }
     },
     "outputs": []
    }
   ],
   "metadata": {}
  }
 ]
}